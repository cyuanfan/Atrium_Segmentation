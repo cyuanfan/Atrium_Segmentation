{
 "cells": [
  {
   "cell_type": "code",
   "execution_count": 1,
   "id": "94007fc6-02b3-445f-b5c0-42b49fdbc2ab",
   "metadata": {},
   "outputs": [],
   "source": [
    "import torch"
   ]
  },
  {
   "cell_type": "code",
   "execution_count": 2,
   "id": "158295bf-5a39-44f7-9b3b-9cf4697cb2f2",
   "metadata": {},
   "outputs": [],
   "source": [
    "class DoubleConv(torch.nn.Module):\n",
    "    def __init__(self, in_channels, out_channels):\n",
    "        super().__init__()\n",
    "        self.step = torch.nn.Sequential(torch.nn.Conv2d(in_channels, out_channels, 3, padding=1),\n",
    "                                        torch.nn.ReLU(),\n",
    "                                        torch.nn.Conv2d(out_channels, out_channels, 3, padding=1),\n",
    "                                        torch.nn.ReLU())\n",
    "\n",
    "    def forward(self, X):\n",
    "        return self.step(X)"
   ]
  },
  {
   "cell_type": "code",
   "execution_count": 3,
   "id": "a2b1a45e-bcde-4cdc-9f91-4dee24604021",
   "metadata": {},
   "outputs": [],
   "source": [
    "class UNet(torch.nn.Module):\n",
    "    def __init__(self):\n",
    "        super().__init__()\n",
    "\n",
    "        self.layer1 = DoubleConv(1, 64)\n",
    "        self.layer2 = DoubleConv(64, 128)\n",
    "        self.layer3 = DoubleConv(128, 256)\n",
    "        self.layer4 = DoubleConv(256, 512)\n",
    "\n",
    "        self.layer5 = DoubleConv(512+256, 256)\n",
    "        self.layer6 = DoubleConv(256+128, 128)\n",
    "        self.layer7 = DoubleConv(128+64, 64)\n",
    "        self.layer8 = torch.nn.Conv2d(64, 1, 1)\n",
    "\n",
    "        self.maxpool = torch.nn.MaxPool2d(2)\n",
    "\n",
    "    def forward(self, x):\n",
    "        x1 = self.layer1(x)     # 256*256*64\n",
    "        x1m = self.maxpool(x1)  # 128*128*64\n",
    "\n",
    "        x2 = self.layer2(x1m)   # 128*128*128\n",
    "        x2m = self.maxpool(x2)  # 64*64*128\n",
    "\n",
    "        x3 = self.layer3(x2m)   # 64*64*256\n",
    "        x3m = self.maxpool(x3)  # 32*32*256\n",
    "\n",
    "        x4 = self.layer4(x3m)   # 32*32*512\n",
    "\n",
    "        x5 = torch.nn.Upsample(scale_factor=2, mode=\"bilinear\")(x4)  # 64*64*512\n",
    "        x5 = torch.cat([x5, x3], dim=1)                              # 64*64*(512+256)\n",
    "        x5 = self.layer5(x5)                                         # 64*64*256\n",
    "\n",
    "        x6 = torch.nn.Upsample(scale_factor=2, mode=\"bilinear\")(x5)  # 128*128*256\n",
    "        x6 = torch.cat([x6, x2], dim=1)                              # 128*128*(256+128)\n",
    "        x6 = self.layer6(x6)                                         # 128*128*128\n",
    "\n",
    "        x7 = torch.nn.Upsample(scale_factor=2, mode=\"bilinear\")(x6)  # 256*256*128\n",
    "        x7 = torch.cat([x7, x1], dim=1)                              # 256*256*(128+64)\n",
    "        x7 = self.layer7(x7)                                         # 256*256*64\n",
    "\n",
    "        ret = self.layer8(x7)                                        # 256*256*1\n",
    "        return ret"
   ]
  },
  {
   "cell_type": "code",
   "execution_count": 4,
   "id": "492a3c21-fdfb-4651-a2b6-a81872479546",
   "metadata": {},
   "outputs": [],
   "source": [
    "model = UNet()"
   ]
  },
  {
   "cell_type": "code",
   "execution_count": 8,
   "id": "624e688f-1ddd-4af1-a193-32e58c4754bb",
   "metadata": {},
   "outputs": [],
   "source": [
    "random_input = torch.randn(1, 1, 256, 256)\n",
    "output = model(random_input)\n",
    "\"\"\"\n",
    "if output.shape == torch.Size([1, 1, 256, 256]):\n",
    "    print(\"size match\")\n",
    "\"\"\"\n",
    "assert output.shape == torch.Size([1, 1, 256, 256])"
   ]
  },
  {
   "cell_type": "code",
   "execution_count": null,
   "id": "8b3f40ad-be5c-49ea-956a-99b289fdd281",
   "metadata": {},
   "outputs": [],
   "source": []
  }
 ],
 "metadata": {
  "kernelspec": {
   "display_name": "Python 3 (ipykernel)",
   "language": "python",
   "name": "python3"
  },
  "language_info": {
   "codemirror_mode": {
    "name": "ipython",
    "version": 3
   },
   "file_extension": ".py",
   "mimetype": "text/x-python",
   "name": "python",
   "nbconvert_exporter": "python",
   "pygments_lexer": "ipython3",
   "version": "3.10.13"
  }
 },
 "nbformat": 4,
 "nbformat_minor": 5
}
